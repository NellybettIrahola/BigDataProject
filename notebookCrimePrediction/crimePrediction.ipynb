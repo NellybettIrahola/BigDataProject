{
 "cells": [
  {
   "cell_type": "code",
   "execution_count": 1,
   "metadata": {
    "collapsed": true
   },
   "outputs": [],
   "source": [
    "from pyspark.sql.types import FloatType,StringType,IntegerType,StructType\n",
    "from pyspark.sql import SparkSession\n",
    "from pyspark.sql.functions import udf,col"
   ]
  },
  {
   "cell_type": "code",
   "execution_count": 2,
   "metadata": {},
   "outputs": [],
   "source": [
    "#Helper functions\n",
    "\n",
    "def init_spark():\n",
    "    spark = SparkSession \\\n",
    "        .builder \\\n",
    "        .appName(\"Python Spark SQL crime prediction functions\") \\\n",
    "        .config(\"spark.some.config.option\", \"some-value\") \\\n",
    "        .getOrCreate()\n",
    "    return spark\n",
    "\n",
    "def getNullValues(data):\n",
    "    spark = init_spark()\n",
    "    rowsData = ()\n",
    "    rowDataPorc=()\n",
    "    rowDataNames = ()\n",
    "    for i in data.columns:\n",
    "        rowDataNames = rowDataNames + (i + \"_null\",)\n",
    "        aux=data.where(col(i).isNull()).count()\n",
    "        porAux=(aux/data.count())*100\n",
    "        rowsData = rowsData + (float(aux),)\n",
    "        rowDataPorc=rowDataPorc+(float(porAux),)\n",
    "    nullCount = spark.createDataFrame([rowsData,rowDataPorc], rowDataNames)\n",
    "    return nullCount"
   ]
  },
  {
   "cell_type": "code",
   "execution_count": 3,
   "metadata": {},
   "outputs": [
    {
     "name": "stdout",
     "output_type": "stream",
     "text": [
      "root\n |-- neighbourhood_w: string (nullable = true)\n |-- neighbourhood_id: integer (nullable = true)\n |-- total_area: double (nullable = true)\n |-- total_population: integer (nullable = true)\n |-- home_prices: integer (nullable = true)\n |-- local_employment: integer (nullable = true)\n |-- social_assistance_recipients: integer (nullable = true)\n |-- catholic_school_graduation: double (nullable = true)\n |-- catholic_school_literacy: float (nullable = true)\n |-- catholic_university_applicants: float (nullable = true)\n\n"
     ]
    },
    {
     "name": "stdout",
     "output_type": "stream",
     "text": [
      "+--------------------+---------------------+---------------+---------------------+----------------+---------------------+---------------------------------+-------------------------------+-----------------------------+-----------------------------------+\n|neighbourhood_w_null|neighbourhood_id_null|total_area_null|total_population_null|home_prices_null|local_employment_null|social_assistance_recipients_null|catholic_school_graduation_null|catholic_school_literacy_null|catholic_university_applicants_null|\n+--------------------+---------------------+---------------+---------------------+----------------+---------------------+---------------------------------+-------------------------------+-----------------------------+-----------------------------------+\n|                 0.0|                  0.0|            0.0|                  0.0|             0.0|                  0.0|                              0.0|                            0.0|                          0.0|                                0.0|\n|                 0.0|                  0.0|            0.0|                  0.0|             0.0|                  0.0|                              0.0|                            0.0|                          0.0|                                0.0|\n+--------------------+---------------------+---------------+---------------------+----------------+---------------------+---------------------------------+-------------------------------+-----------------------------+-----------------------------------+\n\n"
     ]
    },
    {
     "name": "stdout",
     "output_type": "stream",
     "text": [
      "+-------+------------------+-----------------+-----------------+------------------+------------------+------------------+----------------------------+--------------------------+------------------------+------------------------------+\n|summary|   neighbourhood_w| neighbourhood_id|       total_area|  total_population|       home_prices|  local_employment|social_assistance_recipients|catholic_school_graduation|catholic_school_literacy|catholic_university_applicants|\n+-------+------------------+-----------------+-----------------+------------------+------------------+------------------+----------------------------+--------------------------+------------------------+------------------------------+\n|  count|               140|              140|              140|               140|               140|               140|                         140|                       140|                     140|                           140|\n|   mean|              null|             70.5|4.523500000000002|18676.928571428572| 548193.4071428571|           9409.35|                      1864.7|        0.8140323857142859|      0.7701082674520356|           0.41892336308956146|\n| stddev|              null|40.55859958134649| 4.59849896138313| 9099.209341604535|267667.42685502983|19125.338300454576|          1504.5626468423911|       0.11448002090299805|     0.11353179253518021|            0.1419961345154513|\n|    min|   agincourt-north|                1|              0.4|              6490|            204104|               438|                          37|                       0.0|                     0.4|                           0.0|\n|    max|yorkdale-glen-park|              140|             37.6|             53350|           1849084|            185891|                        7263|                       1.0|                     1.0|                           0.8|\n+-------+------------------+-----------------+-----------------+------------------+------------------+------------------+----------------------------+--------------------------+------------------------+------------------------------+\n\n"
     ]
    }
   ],
   "source": [
    "#Function to pre-process the Wellbeing datasets\n",
    "\n",
    "def datasetWellbeing(demographicsFilename,economicsFilename,educationFilename, variable):\n",
    "\n",
    "    spark = init_spark()\n",
    "\n",
    "    #Selecting features from the dataframe\n",
    "\n",
    "    eliminateSpace = udf(lambda x: x.replace(\" \",\"-\").lower(),StringType())\n",
    "    porcentaj=udf(lambda x: x/100,FloatType())\n",
    "    dataWellbeingDemographics = spark.read.csv(demographicsFilename, header=True, mode=\"DROPMALFORMED\",inferSchema=True)\n",
    "    dataWellbeingDemographics=dataWellbeingDemographics.select(eliminateSpace('Neighbourhood').alias('neighbourhood_d'),dataWellbeingDemographics['Neighbourhood Id'].alias(\"neighbourhood_id_d\"),dataWellbeingDemographics['Total Area'].alias('total_area'),dataWellbeingDemographics['Total Population'].alias('total_population'))\n",
    "\n",
    "    dataWellbeingEconomics = spark.read.csv(economicsFilename, header=True, mode=\"DROPMALFORMED\",inferSchema=True)\n",
    "    dataWellbeingEconomics = dataWellbeingEconomics.select(eliminateSpace('Neighbourhood').alias('neighbourhood_e'),\n",
    "                                                                 dataWellbeingEconomics['Neighbourhood Id'].alias(\n",
    "                                                                     \"neighbourhood_id_e\"),\n",
    "                                                                 dataWellbeingEconomics['Home Prices'].alias(\n",
    "                                                                     'home_prices'),\n",
    "                                                                 dataWellbeingEconomics['Local Employment'].alias(\n",
    "                                                                     'local_employment'),dataWellbeingEconomics['Social Assistance Recipients'].alias('social_assistance_recipients'))\n",
    "\n",
    "    dataWellbeingEducation = spark.read.csv(educationFilename, header=True, mode=\"DROPMALFORMED\",inferSchema=True)\n",
    "    dataWellbeingEducation = dataWellbeingEducation.select(eliminateSpace('Neighbourhood').alias('neighbourhood_ed'),\n",
    "                                                           dataWellbeingEducation['Neighbourhood Id'].alias(\n",
    "                                                               \"neighbourhood_id_ed\"),\n",
    "                                                           dataWellbeingEducation['Catholic School Graduation'].alias(\n",
    "                                                               'catholic_school_graduation'),\n",
    "                                                           porcentaj(dataWellbeingEducation['Catholic School Literacy']).alias(\n",
    "                                                               'catholic_school_literacy'),\n",
    "                                                           porcentaj(dataWellbeingEducation['Catholic University Applicants']).alias(\n",
    "                                                               'catholic_university_applicants'))\n",
    "\n",
    "    data = dataWellbeingEducation.join(dataWellbeingEconomics,dataWellbeingEducation['neighbourhood_id_ed']==dataWellbeingEconomics['neighbourhood_id_e'])\n",
    "    data = data.join(dataWellbeingDemographics,\n",
    "                                       data['neighbourhood_id_ed'] == dataWellbeingDemographics[\n",
    "                                           'neighbourhood_id_d'])\n",
    "\n",
    "    data=data.select(data['neighbourhood_e'].alias('neighbourhood_w'),data['neighbourhood_id_e'].alias('neighbourhood_id'),data['total_area'],data['total_population'],data['home_prices'],data['local_employment'],data['social_assistance_recipients'],data['catholic_school_graduation'],data['catholic_school_literacy'],data['catholic_university_applicants'])\n",
    "\n",
    "    if(variable==1):\n",
    "\n",
    "        # Show Schema\n",
    "        data.printSchema()\n",
    "\n",
    "        #Counting null values\n",
    "        nullCount=getNullValues(data)\n",
    "        nullCount.show()\n",
    "\n",
    "        #Feature metrics\n",
    "        data.describe().show()\n",
    "\n",
    "    return data\n",
    "\n",
    "result0=datasetWellbeing(\"./data/WB-Demographics.csv\",\"./data/WB-Economics.csv\",\"./data/WB-Education.csv\",1)"
   ]
  },
  {
   "cell_type": "code",
   "execution_count": 4,
   "metadata": {},
   "outputs": [
    {
     "name": "stdout",
     "output_type": "stream",
     "text": [
      "root\n |-- X: double (nullable = true)\n |-- Y: double (nullable = true)\n |-- Index_: integer (nullable = true)\n |-- event_unique_id: string (nullable = true)\n |-- occurrencedate: timestamp (nullable = true)\n |-- reporteddate: timestamp (nullable = true)\n |-- premisetype: string (nullable = true)\n |-- ucr_code: integer (nullable = true)\n |-- ucr_ext: integer (nullable = true)\n |-- offence: string (nullable = true)\n |-- reportedyear: integer (nullable = true)\n |-- reportedmonth: string (nullable = true)\n |-- reportedday: integer (nullable = true)\n |-- reporteddayofyear: integer (nullable = true)\n |-- reporteddayofweek: string (nullable = true)\n |-- reportedhour: integer (nullable = true)\n |-- occurrenceyear: integer (nullable = true)\n |-- occurrencemonth: string (nullable = true)\n |-- occurrenceday: integer (nullable = true)\n |-- occurrencedayofyear: integer (nullable = true)\n |-- occurrencedayofweek: string (nullable = true)\n |-- occurrencehour: integer (nullable = true)\n |-- MCI: string (nullable = true)\n |-- Division: string (nullable = true)\n |-- Hood_ID: integer (nullable = true)\n |-- Neighbourhood: string (nullable = true)\n |-- Lat: double (nullable = true)\n |-- Long: double (nullable = true)\n |-- FID: integer (nullable = true)\n\n"
     ]
    },
    {
     "name": "stdout",
     "output_type": "stream",
     "text": [
      "+------+------+-----------+--------------------+-------------------+-----------------+----------------+-------------+------------+------------+-----------------+------------------+----------------+----------------------+----------------------+-----------------+--------------------+--------------------+--------------------+------------------------+------------------------+-------------------+--------+-------------+------------+------------------+--------+---------+--------+\n|X_null|Y_null|Index__null|event_unique_id_null|occurrencedate_null|reporteddate_null|premisetype_null|ucr_code_null|ucr_ext_null|offence_null|reportedyear_null|reportedmonth_null|reportedday_null|reporteddayofyear_null|reporteddayofweek_null|reportedhour_null| occurrenceyear_null|occurrencemonth_null|  occurrenceday_null|occurrencedayofyear_null|occurrencedayofweek_null|occurrencehour_null|MCI_null|Division_null|Hood_ID_null|Neighbourhood_null|Lat_null|Long_null|FID_null|\n+------+------+-----------+--------------------+-------------------+-----------------+----------------+-------------+------------+------------+-----------------+------------------+----------------+----------------------+----------------------+-----------------+--------------------+--------------------+--------------------+------------------------+------------------------+-------------------+--------+-------------+------------+------------------+--------+---------+--------+\n|   0.0|   0.0|        0.0|                 0.0|                0.0|              0.0|             0.0|          0.0|         0.0|         0.0|              0.0|               0.0|             0.0|                   0.0|                   0.0|              0.0|                40.0|                40.0|                40.0|                    40.0|                    40.0|                0.0|     0.0|          0.0|         0.0|               0.0|     0.0|      0.0|     0.0|\n|   0.0|   0.0|        0.0|                 0.0|                0.0|              0.0|             0.0|          0.0|         0.0|         0.0|              0.0|               0.0|             0.0|                   0.0|                   0.0|              0.0|0.030517345296132693|0.030517345296132693|0.030517345296132693|    0.030517345296132693|    0.030517345296132693|                0.0|     0.0|          0.0|         0.0|               0.0|     0.0|      0.0|     0.0|\n+------+------+-----------+--------------------+-------------------+-----------------+----------------+-------------+------------+------------+-----------------+------------------+----------------+----------------------+----------------------+-----------------+--------------------+--------------------+--------------------+------------------------+------------------------+-------------------+--------+-------------+------------+------------------+--------+---------+--------+\n\n"
     ]
    },
    {
     "name": "stdout",
     "output_type": "stream",
     "text": [
      "+-------+-------------------+-------------------+---------------+---------------+-----------+------------------+------------------+--------------------+------------------+-------------+------------------+------------------+-----------------+------------------+------------------+---------------+------------------+-------------------+-------------------+-----------------+----------+--------+------------------+--------------------+-------------------+-------------------+------------------+\n|summary|                  X|                  Y|         Index_|event_unique_id|premisetype|          ucr_code|           ucr_ext|             offence|      reportedyear|reportedmonth|       reportedday| reporteddayofyear|reporteddayofweek|      reportedhour|    occurrenceyear|occurrencemonth|     occurrenceday|occurrencedayofyear|occurrencedayofweek|   occurrencehour|       MCI|Division|           Hood_ID|       Neighbourhood|                Lat|               Long|               FID|\n+-------+-------------------+-------------------+---------------+---------------+-----------+------------------+------------------+--------------------+------------------+-------------+------------------+------------------+-----------------+------------------+------------------+---------------+------------------+-------------------+-------------------+-----------------+----------+--------+------------------+--------------------+-------------------+-------------------+------------------+\n|  count|             131073|             131073|         131073|         131073|     131073|            131073|            131073|              131073|            131073|       131073|            131073|            131073|           131073|            131073|            131033|         131033|            131033|             131033|             131033|           131073|    131073|  131073|            131073|              131073|             131073|             131073|            131073|\n|   mean| -79.39415767714455| 43.708025006515676|        65537.0|           null|       null| 1689.249433521778|145.24261289510426|                null|2015.5316045257223|         null|15.752428036285124|187.38953102469617|             null|12.848855218084578| 2015.500164080804|           null|15.563941907763693| 186.98047056848276|               null|12.57055991699282|      null|    null| 72.92129576648128|                null| 43.708025006515676| -79.39415767714455|           65537.0|\n| stddev|0.10526304828472907|0.05258746265670866|37837.660254038|           null|       null|320.47415884193634| 51.54461137003518|                null|1.1205332884663861|         null| 8.776168619259668| 103.5060370233312|             null| 6.660909203408898|1.1852313000302714|           null| 8.878111966958544|   103.696589989182|               null|7.208813548148572|      null|    null|41.198615612652596|                null|0.05258746265670877|0.10526304828472914|37837.660254037924|\n|    min|        -79.6352386|         43.5870934|              1| GO-20141035797|  Apartment|              1410|               100|Administering Nox...|              2014|        April|                 1|                 1|       Friday    |                 0|              2000|          April|                 1|                  1|         Friday    |                0|   Assault|     D11|                 1|Agincourt North (...|         43.5870934|        -79.6352386|                 1|\n|    max|        -79.1231003|         43.8479538|         131073|  GO-2017999987|    Outside|              2135|               230|Use Firearm / Imm...|              2017|    September|                31|               366|       Wednesday |                23|              2017|      September|                31|                366|         Wednesday |               23|Theft Over| D55    |               140|Yorkdale-Glen Par...|         43.8479538|        -79.1231003|            131073|\n+-------+-------------------+-------------------+---------------+---------------+-----------+------------------+------------------+--------------------+------------------+-------------+------------------+------------------+-----------------+------------------+------------------+---------------+------------------+-------------------+-------------------+-----------------+----------+--------+------------------+--------------------+-------------------+-------------------+------------------+\n\n"
     ]
    }
   ],
   "source": [
    "#Function to pre-process the MCI dataset\n",
    "\n",
    "def dataSetCreactionCrime(crimeFilename,variable):\n",
    "    spark = init_spark()\n",
    "    dataCrimes = spark.read.csv(crimeFilename, header=True, mode=\"DROPMALFORMED\",inferSchema=True)\n",
    "    \n",
    "     # Counting null values\n",
    "    nullCount = getNullValues(dataCrimes)\n",
    "    \n",
    "    #Eliminate null values\n",
    "    numberNotNull=dataCrimes.where(dataCrimes[\"occurrenceyear\"].isNotNull() & dataCrimes[\"occurrencemonth\"].isNotNull() & dataCrimes[\"occurrenceday\"].isNotNull() & dataCrimes[\"occurrencedayofyear\"].isNotNull() & dataCrimes[\"occurrencedayofweek\"].isNotNull())\n",
    "\n",
    "    if(variable==1):\n",
    "        \n",
    "        #Show Schema\n",
    "        dataCrimes.printSchema()\n",
    "        \n",
    "        #Showing null values\n",
    "        nullCount.show()\n",
    "        \n",
    "        # Feature metrics\n",
    "        dataCrimes.describe().show()\n",
    "\n",
    "\n",
    "    return numberNotNull\n",
    "\n",
    "result1=dataSetCreactionCrime(\"./data/MCI_2014_to_2017.csv\",1)"
   ]
  },
  {
   "cell_type": "code",
   "execution_count": 5,
   "metadata": {},
   "outputs": [
    {
     "name": "stdout",
     "output_type": "stream",
     "text": [
      "root\n |-- neighbourhood_name: string (nullable = true)\n |-- neighbourhood_id: integer (nullable = true)\n |-- total_area: double (nullable = true)\n |-- total_population: integer (nullable = true)\n |-- home_prices: integer (nullable = true)\n |-- local_employment: integer (nullable = true)\n |-- social_assistance_recipients: integer (nullable = true)\n |-- catholic_school_graduation: double (nullable = true)\n |-- catholic_school_literacy: float (nullable = true)\n |-- catholic_university_applicants: float (nullable = true)\n |-- neighbourhood: string (nullable = true)\n |-- x: double (nullable = true)\n |-- y: double (nullable = true)\n |-- index: integer (nullable = true)\n |-- event_unique_id: string (nullable = true)\n |-- premisetype: string (nullable = true)\n |-- ucr_code: integer (nullable = true)\n |-- ucr_ext: integer (nullable = true)\n |-- offence: string (nullable = true)\n |-- reportedyear: integer (nullable = true)\n |-- reportedmonth: string (nullable = true)\n |-- reportedday: integer (nullable = true)\n |-- reporteddayofyear: integer (nullable = true)\n |-- reporteddayofweek: string (nullable = true)\n |-- reportedhour: integer (nullable = true)\n |-- occurrenceyear: integer (nullable = true)\n |-- occurrencemonth: string (nullable = true)\n |-- occurrenceday: integer (nullable = true)\n |-- occurrencedayofyear: integer (nullable = true)\n |-- occurrencedayofweek: string (nullable = true)\n |-- occurrencehour: integer (nullable = true)\n |-- mci: string (nullable = true)\n |-- lat: double (nullable = true)\n |-- long: double (nullable = true)\n |-- fid: integer (nullable = true)\n\n"
     ]
    },
    {
     "name": "stdout",
     "output_type": "stream",
     "text": [
      "+---------------+-----+\n|            mci|count|\n+---------------+-----+\n|        Assault|71406|\n|Break and Enter|27353|\n|        Robbery|14590|\n|     Auto Theft|13477|\n|     Theft Over| 4207|\n+---------------+-----+\n\n"
     ]
    },
    {
     "name": "stdout",
     "output_type": "stream",
     "text": [
      "+--------------------+-----+\n|  neighbourhood_name|count|\n+--------------------+-----+\n|church-yonge-corr...| 4699|\n|waterfront-commun...| 4362|\n|west-humber-clair...| 3282|\n| bay-street-corridor| 2744|\n|           moss-park| 2653|\n|york-university-h...| 2538|\n|              woburn| 2530|\n|kensington-chinatown| 2440|\n|downsview-roding-cfb| 2298|\n|               annex| 2283|\n|           west-hill| 2263|\n|islington-city-ce...| 1999|\n|dovercourt-wallac...| 1857|\n|    wexford/maryvale| 1837|\n|mount-olive-silve...| 1818|\n|             bendale| 1812|\n| clairlea-birchmount| 1762|\n|         black-creek| 1628|\n|             malvern| 1604|\n|glenfield-jane-he...| 1579|\n+--------------------+-----+\nonly showing top 20 rows\n\nroot\n |-- neighbourhood_name: string (nullable = true)\n |-- neighbourhood_id: integer (nullable = true)\n |-- total_area: double (nullable = true)\n |-- total_population: integer (nullable = true)\n |-- home_prices: integer (nullable = true)\n |-- local_employment: integer (nullable = true)\n |-- social_assistance_recipients: integer (nullable = true)\n |-- catholic_school_graduation: double (nullable = true)\n |-- catholic_school_literacy: float (nullable = true)\n |-- catholic_university_applicants: float (nullable = true)\n |-- neighbourhood: string (nullable = true)\n |-- x: double (nullable = true)\n |-- y: double (nullable = true)\n |-- index: integer (nullable = true)\n |-- event_unique_id: string (nullable = true)\n |-- premisetype: string (nullable = true)\n |-- ucr_code: integer (nullable = true)\n |-- ucr_ext: integer (nullable = true)\n |-- offence: string (nullable = true)\n |-- reportedyear: integer (nullable = true)\n |-- reportedmonth: string (nullable = true)\n |-- reportedday: integer (nullable = true)\n |-- reporteddayofyear: integer (nullable = true)\n |-- reporteddayofweek: string (nullable = true)\n |-- reportedhour: integer (nullable = true)\n |-- occurrenceyear: integer (nullable = true)\n |-- occurrencemonth: string (nullable = true)\n |-- occurrenceday: integer (nullable = true)\n |-- occurrencedayofyear: integer (nullable = true)\n |-- occurrencedayofweek: string (nullable = true)\n |-- occurrencehour: integer (nullable = true)\n |-- mci: string (nullable = true)\n |-- lat: double (nullable = true)\n |-- long: double (nullable = true)\n |-- fid: integer (nullable = true)\n |-- year_difference: integer (nullable = true)\n\n"
     ]
    },
    {
     "name": "stdout",
     "output_type": "stream",
     "text": [
      "+---------------+-----+\n|year_difference|index|\n+---------------+-----+\n|             17|    9|\n|             17|    5|\n|             16|    6|\n|             16|    8|\n|             15|    7|\n|             15|   33|\n|             15|   14|\n|             15|   34|\n|             15|   15|\n|             15|   32|\n|             15|11748|\n|             14|    4|\n|             14|   17|\n|             14|   31|\n|             14|   13|\n|             14|11747|\n|             14|   19|\n|             14|   21|\n|             14|   10|\n|             14|12410|\n+---------------+-----+\nonly showing top 20 rows\n\n"
     ]
    }
   ],
   "source": [
    "#All Datasets\n",
    "\n",
    "def joinDataset(variable):\n",
    "\n",
    "    rddCrime=dataSetCreactionCrime(\"./data/MCI_2014_to_2017.csv\",0)\n",
    "    rddWellbeing=datasetWellbeing(\"./data/WB-Demographics.csv\",\"./data/WB-Economics.csv\",\"./data/WB-Education.csv\",0)\n",
    "\n",
    "    data = rddCrime.join(rddWellbeing,rddCrime['Hood_ID'] == rddWellbeing['neighbourhood_id'])\n",
    "    data = data.select(data['neighbourhood_w'].alias(\"neighbourhood_name\"),\n",
    "                       data['neighbourhood_id'], data['total_area'],\n",
    "                       data['total_population'], data['home_prices'], data['local_employment'],\n",
    "                       data['social_assistance_recipients'], data['catholic_school_graduation'],\n",
    "                       data['catholic_school_literacy'], data['catholic_university_applicants'],\n",
    "                       data['neighbourhood'],data['X'].alias(\"x\"),data['Y'].alias(\"y\"),data['Index_'].alias(\"index\"),\n",
    "                       data[\"event_unique_id\"], data[\"premisetype\"],data[\"ucr_code\"],data[\"ucr_ext\"],data[\"offence\"],\n",
    "                       data[\"reportedyear\"],data[\"reportedmonth\"], data[\"reportedday\"],data[\"reporteddayofyear\"],data[\"reporteddayofweek\"],\n",
    "                       data[\"reportedhour\"], data[\"occurrenceyear\"],data[\"occurrencemonth\"],data[\"occurrenceday\"],data[\"occurrencedayofyear\"],\n",
    "                       data[\"occurrencedayofweek\"], data[\"occurrencehour\"], data[\"MCI\"].alias(\"mci\"),data[\"Lat\"].alias(\"lat\"),data[\"Long\"].alias(\"long\"), data[\"FID\"].alias(\"fid\"))\n",
    "\n",
    "    if(variable==1):\n",
    "        data.printSchema()\n",
    "    return data\n",
    "\n",
    "def groupingAl():\n",
    "\n",
    "    result=joinDataset(0)\n",
    "    result.printSchema()\n",
    "    result.groupBy(\"mci\").count().orderBy(col(\"count\").desc()).show()\n",
    "    result.groupBy(\"neighbourhood_name\").count().orderBy(col(\"count\").desc()).show()\n",
    "    analisis=result.withColumn(\"year_difference\",col(\"reportedyear\")-col(\"occurrenceyear\"))\n",
    "    analisis.printSchema()\n",
    "    analisis.select(analisis[\"year_difference\"],analisis[\"index\"]).where(col(\"year_difference\")>5).orderBy(col(\"year_difference\").desc()).show()\n",
    "    return result\n",
    "\n",
    "result2=groupingAl()"
   ]
  },
  {
   "cell_type": "code",
   "execution_count": null,
   "metadata": {},
   "outputs": [],
   "source": []
  }
 ],
 "metadata": {
  "kernelspec": {
   "display_name": "Python 2",
   "language": "python",
   "name": "python2"
  },
  "language_info": {
   "codemirror_mode": {
    "name": "ipython",
    "version": 2
   },
   "file_extension": ".py",
   "mimetype": "text/x-python",
   "name": "python",
   "nbconvert_exporter": "python",
   "pygments_lexer": "ipython2",
   "version": "2.7.6"
  }
 },
 "nbformat": 4,
 "nbformat_minor": 0
}
